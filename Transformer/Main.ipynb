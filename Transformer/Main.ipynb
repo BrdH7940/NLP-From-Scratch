{
 "cells": [
  {
   "cell_type": "code",
   "execution_count": 1,
   "id": "ad2a92b6",
   "metadata": {},
   "outputs": [
    {
     "name": "stderr",
     "output_type": "stream",
     "text": [
      "d:\\Download\\Anaconda\\envs\\Transformer\\lib\\site-packages\\torchaudio\\backend\\utils.py:74: UserWarning: No audio backend is available.\n",
      "  warnings.warn(\"No audio backend is available.\")\n"
     ]
    }
   ],
   "source": [
    "from pathlib import Path\n",
    "import torch\n",
    "import torch.nn as nn\n",
    "from Config import get_config, latest_weights_file_path\n",
    "from Train import get_model, get_dataset, run_validation\n",
    "from Translate import translate"
   ]
  },
  {
   "cell_type": "code",
   "execution_count": 2,
   "id": "ab12016c",
   "metadata": {},
   "outputs": [
    {
     "name": "stdout",
     "output_type": "stream",
     "text": [
      "Using device: cpu\n",
      "Loading source tokenizer from: tokenizer_en.json\n",
      "Loading target tokenizer from: tokenizer_vi.json\n",
      "Loaded source tokenizer vocab size: 30000\n",
      "Loaded target tokenizer vocab size: 23029\n"
     ]
    }
   ],
   "source": [
    "from tokenizers import Tokenizer # Make sure Tokenizer is imported\n",
    "\n",
    "# Define the device\n",
    "device = \"cpu\" # Or your desired device like \"cuda\"\n",
    "print(\"Using device:\", device)\n",
    "config = get_config()\n",
    "\n",
    "tokenizer_src_path_str = config['tokenizer_file'].format(config['lang_src'])\n",
    "tokenizer_tgt_path_str = config['tokenizer_file'].format(config['lang_tgt'])\n",
    "\n",
    "tokenizer_src_path = Path(tokenizer_src_path_str)\n",
    "tokenizer_tgt_path = Path(tokenizer_tgt_path_str)\n",
    "\n",
    "print(f\"Loading source tokenizer from: {tokenizer_src_path}\")\n",
    "tokenizer_src = Tokenizer.from_file(str(tokenizer_src_path))\n",
    "print(f\"Loading target tokenizer from: {tokenizer_tgt_path}\")\n",
    "tokenizer_tgt = Tokenizer.from_file(str(tokenizer_tgt_path))\n",
    "\n",
    "# Verify vocabulary sizes BEFORE building the model\n",
    "current_src_vocab_size = tokenizer_src.get_vocab_size()\n",
    "current_tgt_vocab_size = tokenizer_tgt.get_vocab_size()\n",
    "print(f\"Loaded source tokenizer vocab size: {current_src_vocab_size}\")\n",
    "print(f\"Loaded target tokenizer vocab size: {current_tgt_vocab_size}\")"
   ]
  },
  {
   "cell_type": "code",
   "execution_count": null,
   "id": "eb1b3a74",
   "metadata": {},
   "outputs": [],
   "source": [
    "state_dict = state['model_state_dict']\n",
    "\n",
    "for key, tensor in state_dict.items():\n",
    "    print(f\"{key}: {tuple(tensor.shape)}\")"
   ]
  },
  {
   "cell_type": "code",
   "execution_count": null,
   "id": "4de39f6d",
   "metadata": {},
   "outputs": [],
   "source": [
    "model = get_model(config, current_src_vocab_size, current_tgt_vocab_size).to(device)\n",
    "print(\"Model initialized with current tokenizer vocabulary sizes.\")\n",
    "\n",
    "# Load the pretrained weights\n",
    "model_filename = latest_weights_file_path(config)\n",
    "\n",
    "if model_filename:\n",
    "    print(f\"Attempting to load model weights from: {model_filename}\")\n",
    "    # Ensure map_location uses the torch.device object\n",
    "    state = torch.load(model_filename, map_location=torch.device(device), weights_only=True)\n",
    "    model.load_state_dict(state['model_state_dict'])\n",
    "    print(f\"Successfully loaded model weights from {model_filename}\")\n",
    "else:\n",
    "    print(f\"No model checkpoint found at path pattern: {config['datasource']}_{config['model_folder']}/{config['model_basename']}*\")\n",
    "    raise FileNotFoundError(\"Could not find model weights to load.\")\n",
    "\n",
    "print(\"Loading dataset...\")\n",
    "train_dataloader, val_dataloader, _, _ = get_dataset(config) # The tokenizers returned here should be the same instances if paths match\n",
    "print(\"Dataset loaded.\")"
   ]
  },
  {
   "cell_type": "code",
   "execution_count": null,
   "id": "aca36d22",
   "metadata": {},
   "outputs": [],
   "source": [
    "run_validation(model, val_dataloader, tokenizer_src, tokenizer_tgt, config['seq_len'], device, lambda msg: print(msg), 0, None, num_examples=10)"
   ]
  },
  {
   "cell_type": "code",
   "execution_count": null,
   "id": "fb437461",
   "metadata": {},
   "outputs": [],
   "source": [
    "t = translate(\"Why do I need to translate this?\")"
   ]
  },
  {
   "cell_type": "code",
   "execution_count": null,
   "id": "7753b484",
   "metadata": {},
   "outputs": [],
   "source": [
    "t = translate(34)"
   ]
  }
 ],
 "metadata": {
  "kernelspec": {
   "display_name": "Transformer",
   "language": "python",
   "name": "python3"
  },
  "language_info": {
   "codemirror_mode": {
    "name": "ipython",
    "version": 3
   },
   "file_extension": ".py",
   "mimetype": "text/x-python",
   "name": "python",
   "nbconvert_exporter": "python",
   "pygments_lexer": "ipython3",
   "version": "3.9.21"
  }
 },
 "nbformat": 4,
 "nbformat_minor": 5
}
