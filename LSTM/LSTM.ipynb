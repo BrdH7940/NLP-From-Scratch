{
 "cells": [
  {
   "cell_type": "markdown",
   "id": "071183be",
   "metadata": {},
   "source": [
    "# LSTM: Implementation From Scratch"
   ]
  },
  {
   "cell_type": "code",
   "execution_count": 54,
   "id": "b2699f8c",
   "metadata": {},
   "outputs": [],
   "source": [
    "import numpy as np\n",
    "import pandas as pd\n",
    "import matplotlib.pyplot as plt\n",
    "import seaborn as sns\n",
    "from Utils import *\n",
    "from LSTM import *"
   ]
  },
  {
   "cell_type": "markdown",
   "id": "0726275e",
   "metadata": {},
   "source": [
    "# Data Preprocessing\n",
    "\n",
    "1.  **Tokenization**: To break down the raw text into individual words or units (tokens).\n",
    "\n",
    "2.  **Vocabulary Construction**: To establish a defined set of known words, filtering out infrequent ones and adding a special token (`<UNK>`) for unknown words encountered later.\n",
    "\n",
    "3.  **Indexing**: To assign a unique numerical ID to every word in the vocabulary for computational use.\n",
    "\n",
    "4.  **Sequence Generation**: To transform the text into sequences of numerical IDs and create corresponding input ($X$) and target ($Y$) sequences needed for training the model to predict the next word.\n",
    "\n",
    "5.  **Numerical Representation (One-Hot Encoding)**: To convert each word's numerical ID into a sparse vector format ($[0, ..., 1, ..., 0]$) suitable as input for the neural network."
   ]
  },
  {
   "cell_type": "code",
   "execution_count": 55,
   "id": "7151b340",
   "metadata": {},
   "outputs": [
    {
     "name": "stdout",
     "output_type": "stream",
     "text": [
      "Preparing word data (one-hot inputs)...\n",
      "Total words found: 140\n",
      "Vocabulary size (threshold>=1): 85\n",
      "Using entire text as one sequence.\n",
      "Prepared 1 training sequence(s).\n"
     ]
    }
   ],
   "source": [
    "# Prepare Data\n",
    "corpus_text = \"\"\"\n",
    "Recurrent Neural Networks, or RNNs, are a type of artificial neural network designed to recognize patterns in sequences of data, such as text, genomes, handwriting, the spoken word, or numerical times series data.\n",
    "Unlike feedforward neural networks, RNNs use their internal state (memory) to process sequences of inputs. This makes them applicable to tasks such as unsegmented, connected handwriting recognition or speech recognition.\n",
    "The term Recurrent Neural Network is used generically to refer to two broad classes of networks with a similar general structure, where one is finite impulse and the other is infinite impulse. Both classes of networks exhibit temporal dynamic behavior. A finite impulse recurrent network is a directed acyclic graph that can be unrolled and replaced with a strictly feedforward neural network, while an infinite impulse recurrent network is a directed cyclic graph that cannot be unrolled.\n",
    "\"\"\"\n",
    "\n",
    "# Prepare word-level data\n",
    "X_one_hot_data, Y_data, word_to_ix, ix_to_word, vocab_size = prepare_word_data_onehot(\n",
    "    corpus_text,\n",
    "    vocab_threshold=1\n",
    ")\n",
    "if not X_one_hot_data: sys.exit(\"Data preparation failed.\")"
   ]
  },
  {
   "cell_type": "markdown",
   "id": "8b70c05d",
   "metadata": {},
   "source": [
    "# LSTM Implementation"
   ]
  },
  {
   "cell_type": "code",
   "execution_count": 56,
   "id": "c179251f",
   "metadata": {},
   "outputs": [],
   "source": [
    "# Define Model Hyperparameters\n",
    "hidden_dim = 50\n",
    "learning_rate = 0.01\n",
    "epochs = 1000\n",
    "clip_value = 5\n",
    "print_every = 50"
   ]
  },
  {
   "cell_type": "code",
   "execution_count": 57,
   "id": "5e40d567",
   "metadata": {},
   "outputs": [],
   "source": [
    "# Instantiate Model\n",
    "LSTM_model = LSTM(hidden_dim=hidden_dim, vocab_size=vocab_size)\n",
    "\n",
    "# Set word mappings\n",
    "LSTM_model.word_to_ix = word_to_ix\n",
    "LSTM_model.ix_to_word = ix_to_word"
   ]
  },
  {
   "cell_type": "code",
   "execution_count": 58,
   "id": "dedb8e41",
   "metadata": {},
   "outputs": [
    {
     "name": "stdout",
     "output_type": "stream",
     "text": [
      "Starting training (One-Hot Input) for 1000 epochs...\n",
      "Learning rate: 0.01, Clipping: 5\n",
      "Epoch 50/1000, Loss: 4.1868, Time: 0.03s\n",
      "\n",
      "Generated examples:\n",
      "  their a a a a a a a a a a\n",
      "  exhibit a a a a a a a a a a\n",
      "  recognize a a a a a a a a a a\n",
      "\n",
      "Epoch 100/1000, Loss: 3.8870, Time: 0.02s\n",
      "\n",
      "Generated examples:\n",
      "  where neural network is a a a a a a a\n",
      "  both of of networks of networks a a a a a\n",
      "  generically to of of networks of networks of networks a a\n",
      "\n",
      "Epoch 150/1000, Loss: 2.8755, Time: 0.03s\n",
      "\n",
      "Generated examples:\n",
      "  generically to to of of of networks networks networks with a\n",
      "  patterns of networks networks networks with a a a neural neural\n",
      "  broad of networks networks networks with a a a neural neural\n",
      "\n",
      "Epoch 200/1000, Loss: 1.1531, Time: 0.03s\n",
      "\n",
      "Generated examples:\n",
      "  replaced to to of of networks this them them to to\n",
      "  type of networks networks a a finite impulse recurrent network is\n",
      "  rnns to sequences of of data as text handwriting handwriting the\n",
      "\n",
      "Epoch 250/1000, Loss: 0.6066, Time: 0.02s\n",
      "\n",
      "Generated examples:\n",
      "  as neural networks or rnns are a type of artificial neural\n",
      "  directed impulse recurrent network is a directed cyclic graph that can\n",
      "  broad of networks networks temporal dynamic a finite impulse recurrent network\n",
      "\n",
      "Epoch 300/1000, Loss: 0.3050, Time: 0.02s\n",
      "\n",
      "Generated examples:\n",
      "  to sequences of data such as text genomes handwriting the spoken\n",
      "  recurrent neural networks or rnns are a type of artificial neural\n",
      "  them to to sequences of data such as text genomes handwriting\n",
      "\n",
      "Epoch 350/1000, Loss: 0.1831, Time: 0.02s\n",
      "\n",
      "Generated examples:\n",
      "  impulse recurrent network is a directed cyclic graph that cannot be\n",
      "  used to to broad of networks with a similar general structure\n",
      "  be neural networks or rnns are a type of artificial neural\n",
      "\n",
      "Epoch 400/1000, Loss: 0.1191, Time: 0.03s\n",
      "\n",
      "Generated examples:\n",
      "  that to two of networks with a similar general structure where\n",
      "  broad of networks networks temporal dynamic behavior a finite impulse recurrent\n",
      "  use to sequences of data such text genomes handwriting the spoken\n",
      "\n",
      "Epoch 450/1000, Loss: 0.0854, Time: 0.03s\n",
      "\n",
      "Generated examples:\n",
      "  neural networks or rnns are a type of neural network designed\n",
      "  times of networks networks temporal dynamic behavior a finite impulse recurrent\n",
      "  internal to sequences of data such text genomes handwriting the spoken\n",
      "\n",
      "Epoch 500/1000, Loss: 0.0652, Time: 0.02s\n",
      "\n",
      "Generated examples:\n",
      "  general neural networks or rnns are a type of artificial neural\n",
      "  with a impulse recurrent network is a directed cyclic graph that\n",
      "  cyclic neural networks or rnns are a type of artificial neural\n",
      "\n",
      "Epoch 550/1000, Loss: 0.0520, Time: 0.02s\n",
      "\n",
      "Generated examples:\n",
      "  networks neural networks or speech a type of neural network is\n",
      "  state of networks networks a dynamic behavior the term recurrent network\n",
      "  them to sequences of data such as text genomes handwriting the\n",
      "\n",
      "Epoch 600/1000, Loss: 0.0428, Time: 0.03s\n",
      "\n",
      "Generated examples:\n",
      "  such neural networks or or are a type of neural network\n",
      "  while neural networks or rnns are a type of artificial neural\n",
      "  dynamic neural networks or rnns are a type of artificial neural\n",
      "\n",
      "Epoch 650/1000, Loss: 0.0362, Time: 0.03s\n",
      "\n",
      "Generated examples:\n",
      "  text neural networks or rnns are a type of artificial neural\n",
      "  generically to two broad of networks with a similar general structure\n",
      "  similar neural networks or rnns are a type of artificial neural\n",
      "\n",
      "Epoch 700/1000, Loss: 0.0312, Time: 0.03s\n",
      "\n",
      "Generated examples:\n",
      "  general neural networks or rnns are a type of artificial neural\n",
      "  speech impulse recurrent networks or rnns are a type of artificial\n",
      "  refer to two classes of networks with a similar general structure\n",
      "\n",
      "Epoch 750/1000, Loss: 0.0273, Time: 0.03s\n",
      "\n",
      "Generated examples:\n",
      "  neural networks or rnns are a type of artificial neural network\n",
      "  strictly neural networks or rnns are a type of artificial neural\n",
      "  directed neural networks or or are a type of artificial neural\n",
      "\n",
      "Epoch 800/1000, Loss: 0.0242, Time: 0.02s\n",
      "\n",
      "Generated examples:\n",
      "  be neural networks or rnns are a type of artificial neural\n",
      "  general neural networks or rnns are a type of artificial neural\n",
      "  feedforward neural networks or rnns are a type of artificial neural\n",
      "\n",
      "Epoch 850/1000, Loss: 0.0217, Time: 0.03s\n",
      "\n",
      "Generated examples:\n",
      "  rnns neural networks rnns rnns are a type of artificial neural\n",
      "  similar neural networks or rnns are a type of artificial neural\n",
      "  an neural networks or rnns are a type of artificial neural\n",
      "\n",
      "Epoch 900/1000, Loss: 0.0196, Time: 0.03s\n",
      "\n",
      "Generated examples:\n",
      "  text neural networks or rnns are a type of artificial neural\n",
      "  spoken neural networks or rnns are a type of artificial neural\n",
      "  memory to sequences of data such text genomes handwriting the spoken\n",
      "\n",
      "Epoch 950/1000, Loss: 0.0179, Time: 0.03s\n",
      "\n",
      "Generated examples:\n",
      "  recognize neural networks or rnns are a type of artificial neural\n",
      "  temporal neural networks or rnns are a type of artificial neural\n",
      "  directed neural networks or or are a type of artificial neural\n",
      "\n",
      "Epoch 1000/1000, Loss: 0.0164, Time: 0.03s\n",
      "\n",
      "Generated examples:\n",
      "  and neural networks or rnns are a type of artificial neural\n",
      "  type of networks networks rnns their a type type recurrent neural\n",
      "  can of networks networks temporal dynamic behavior a finite impulse recurrent\n",
      "\n",
      "Training Completed\n"
     ]
    },
    {
     "data": {
      "image/png": "[encoded data removed]",
      "text/plain": [
       "<Figure size 1000x600 with 1 Axes>"
      ]
     },
     "metadata": {},
     "output_type": "display_data"
    }
   ],
   "source": [
    "# Train Model\n",
    "loss_history = LSTM_model.train(\n",
    "    X_one_hot_data, \n",
    "    Y_data,\n",
    "    lr=learning_rate,\n",
    "    epochs=epochs,\n",
    "    clip_value=clip_value,\n",
    "    print_every=print_every,\n",
    "    generated_examples=3  # Show 3 examples per reporting interval\n",
    ")\n",
    "\n",
    "# Plot Loss\n",
    "if loss_history:\n",
    "    plt.figure(figsize=(10, 6))\n",
    "    plt.plot(loss_history)\n",
    "    plt.xlabel(\"Epoch\")\n",
    "    plt.ylabel(\"Average Loss per Word\")\n",
    "    plt.title(\"Training Loss\")\n",
    "    plt.grid(True)\n",
    "    plt.show()"
   ]
  },
  {
   "cell_type": "markdown",
   "id": "9c79ef79",
   "metadata": {},
   "source": [
    "## Evaluation Metrics\n",
    "\n",
    "1.  **Average Cross-Entropy Loss**: This is the primary quantitative metric tracked during training. It measures how well the model's predicted probability distributions align with the actual target words. Lower loss indicates better performance.\n",
    "\n",
    "2.  **Text Generation**: The `sample_words` and `predict_words` functions allow for qualitative assessment by generating text sequences based on the trained model. Observing the coherence, grammar, and relevance of the generated text provides insight into the model's language modeling capabilities. Sampling strategies like 'random' (multinomial sampling) or 'argmax' (greedy selection) can be used."
   ]
  },
  {
   "cell_type": "code",
   "execution_count": 61,
   "id": "a60028cd",
   "metadata": {},
   "outputs": [
    {
     "name": "stdout",
     "output_type": "stream",
     "text": [
      "\n",
      "--- Sampling from the trained model ---\n",
      "\n",
      "Sampling (random choice) starting with 'Recurrent':\n",
      "recurrent neural or or rnns are a type of artificial neural\n",
      "\n",
      "Sampling (argmax choice) starting with 'Recurrent':\n",
      "recurrent networks or rnns are a type of artificial neural network\n"
     ]
    }
   ],
   "source": [
    "# Evaluate by Sampling (Using the word-specific predict method)\n",
    "print(\"\\n--- Sampling from the trained model ---\")\n",
    "seed_word = \"Recurrent\"\n",
    "sample_length = 10\n",
    "\n",
    "print(f\"\\nSampling (random choice) starting with '{seed_word}':\")\n",
    "sampled_text_random = LSTM_model.predict_words(seed_word, n=sample_length, sample_strategy='random')\n",
    "print(f\"{sampled_text_random}\")\n",
    "\n",
    "print(f\"\\nSampling (argmax choice) starting with '{seed_word}':\")\n",
    "sampled_text_argmax = LSTM_model.predict_words(seed_word, n=sample_length, sample_strategy='argmax')\n",
    "print(f\"{sampled_text_argmax}\")"
   ]
  }
 ],
 "metadata": {
  "kernelspec": {
   "display_name": "DeepML",
   "language": "python",
   "name": "python3"
  },
  "language_info": {
   "codemirror_mode": {
    "name": "ipython",
    "version": 3
   },
   "file_extension": ".py",
   "mimetype": "text/x-python",
   "name": "python",
   "nbconvert_exporter": "python",
   "pygments_lexer": "ipython3",
   "version": "3.11.7"
  }
 },
 "nbformat": 4,
 "nbformat_minor": 5
}
